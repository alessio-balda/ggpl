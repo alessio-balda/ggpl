{
 "cells": [
  {
   "cell_type": "markdown",
   "metadata": {},
   "source": [
    "## Model of suburban neighborhood"
   ]
  },
  {
   "cell_type": "markdown",
   "metadata": {},
   "source": [
    "### [**Esempio**](http://previews.123rf.com/images/artisticco/artisticco1401/artisticco140100006/24885411-A-vector-illustration-of-houses-in-suburban-viewed-from-above-Stock-Vector.jpg)"
   ]
  },
  {
   "cell_type": "code",
   "execution_count": 1,
   "metadata": {
    "collapsed": false
   },
   "outputs": [
    {
     "name": "stdout",
     "output_type": "stream",
     "text": [
      "Evaluating fenvs.py..\n",
      "...fenvs.py imported in 0.00710434494982 seconds\n"
     ]
    },
    {
     "name": "stderr",
     "output_type": "stream",
     "text": [
      "C:\\Program Files (x86)\\Anaconda2\\lib\\site-packages\\larlib-0.3.2-py2.7.egg\\larlib\\larstruct.py:233: FutureWarning: comparison to `None` will result in an elementwise object comparison in the future.\n",
      "  self.body = [item for item in data if item != None]\n"
     ]
    }
   ],
   "source": [
    "from workshop_10 import *"
   ]
  },
  {
   "cell_type": "code",
   "execution_count": 2,
   "metadata": {
    "collapsed": true
   },
   "outputs": [],
   "source": [
    "def createTerrain():\n",
    "    \"\"\"Creates the terrain for the whole town.\"\"\"\n",
    "    #landing = MATERIAL([0,1,0,1, 0.5,0.5,0,0.5, 0,0,0,0, 0,0,0,0, 100])(CUBOID([1000,1000,4]))\n",
    "    landing = TEXTURE([\"grassTexture.png\",TRUE, TRUE, 1, 1, 0, 10, 10])(CUBOID([1000,1000,4]))\n",
    "    underground = COLOR(BROWN)(CUBOID([1000,1000,50]))\n",
    "    terrain = STRUCT([landing,T(3)(-50),underground])\n",
    "    return terrain"
   ]
  },
  {
   "cell_type": "code",
   "execution_count": 3,
   "metadata": {
    "collapsed": true
   },
   "outputs": [],
   "source": [
    "def buildCurvedStreet(points1,points2):\n",
    "    \"\"\"Builds a 2D street with the points of two curves.\"\"\"\n",
    "    c1 = BEZIER(S1)(points1)\n",
    "    c2 = BEZIER(S1)(points2)\n",
    "    return MAP(BEZIER(S2)([c1,c2]))(PROD([INTERVALS(1)(10),INTERVALS(1)(10)]))"
   ]
  },
  {
   "cell_type": "code",
   "execution_count": 4,
   "metadata": {
    "collapsed": false
   },
   "outputs": [],
   "source": [
    "def buildTown():\n",
    "    \"\"\"Builds the whole town.\"\"\"\n",
    "    terrain = createTerrain()\n",
    "    house = buildHouse('extWalls.lines','intWalls.lines','doors.lines','windows.lines','stairs.lines','roof.lines')\n",
    "    struct = []\n",
    "    #First street\n",
    "    points1=[[200,0],[450,225],[675,475],[750,750],[735,805],[625,820],[535,835],[340,850],[180,880],[0,900]]\n",
    "    points2=[[300,0],[500,160],[550,210],[725,425],[820,610],[810,810],[780,890],[650,900],[350,925],[0,1000]]\n",
    "    struct.append(buildCurvedStreet(points1,points2))\n",
    "    #Second street\n",
    "    points1=[[500,0],[350,260],[310,225],[300,350],[290,450],[300,550],[350,650],[400,700],[435,885],[500,1000]]\n",
    "    points2=[[600,0],[450,200],[400,275],[375,335],[350,450],[360,550],[410,620],[490,700],[525,890],[600,1000]]\n",
    "    struct.append(buildCurvedStreet(points1,points2))\n",
    "    #Third street\n",
    "    points1=[[0,300],[50,350],[100,450],[140,600],[180,700],[190,760],[250,815],[300,890]]\n",
    "    points2=[[0,400],[50,450],[80,600],[100,700],[110,790],[150,830],[180,880]]\n",
    "    struct.append(buildCurvedStreet(points1,points2))\n",
    "    \n",
    "    streets = STRUCT([struct[0],struct[1],struct[2]])\n",
    "    streets = PROD([streets,QUOTE([4.5])])\n",
    "    streets = MATERIAL([0.1,0.1,0.1,1, 0.1,0.1,0.1,1, 0,0,0,1, 0,0,0,1, 100])(streets)\n",
    "    \n",
    "    ground = STRUCT([terrain,streets])\n",
    "    ground = SCALE([1,2,3])([5,5,5])(ground)\n",
    "    house1 = T([1,2])([790,1700])(zRotate(house,2.65))\n",
    "    house2 = T([1,2])([1300,3000])(zRotate(house,2.65))\n",
    "    house3 = T([1,2])([1200,1000])(zRotate(house,-0.82))\n",
    "    house4 = T([1,2])([2700,3000])(zRotate(house,2.7))\n",
    "    house5 = T([1,2])([2500,2150])(zRotate(house,PI))\n",
    "    house6 = T([1,2])([4250,3700])(zRotate(house,3.35))\n",
    "    house7 = T([1,2])([3400,1200])(zRotate(house,2.4))\n",
    "    house8 = T([1,2])([3900,2100])(zRotate(house,2.7))\n",
    "    house9 = T([1,2])([1400,3700])(zRotate(house,-0.4))\n",
    "    house10 = T([1,2])([1000,2100])(zRotate(house,0))\n",
    "    return STRUCT([ground,T(3)(20),house1,house2,house3,house4,house5,house6,house7,house8,house9,house10])"
   ]
  },
  {
   "cell_type": "code",
   "execution_count": 5,
   "metadata": {
    "collapsed": false
   },
   "outputs": [
    {
     "data": {
      "text/plain": [
       "<pyplasm.xgepy.Hpc; proxy of <Swig Object of type 'std::shared_ptr< Hpc > *' at 0x03AF6068> >"
      ]
     },
     "execution_count": 5,
     "metadata": {},
     "output_type": "execute_result"
    }
   ],
   "source": [
    "VIEW(buildTown())"
   ]
  },
  {
   "cell_type": "markdown",
   "metadata": {},
   "source": [
    "<img src=\"files/town1.png\">\n",
    "<img src=\"files/town2.png\">"
   ]
  },
  {
   "cell_type": "code",
   "execution_count": null,
   "metadata": {
    "collapsed": true
   },
   "outputs": [],
   "source": []
  }
 ],
 "metadata": {
  "anaconda-cloud": {},
  "kernelspec": {
   "display_name": "Python [default]",
   "language": "python",
   "name": "python2"
  },
  "language_info": {
   "codemirror_mode": {
    "name": "ipython",
    "version": 2
   },
   "file_extension": ".py",
   "mimetype": "text/x-python",
   "name": "python",
   "nbconvert_exporter": "python",
   "pygments_lexer": "ipython2",
   "version": "2.7.12"
  }
 },
 "nbformat": 4,
 "nbformat_minor": 1
}
