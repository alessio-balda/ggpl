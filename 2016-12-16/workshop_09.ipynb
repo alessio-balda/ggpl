{
 "cells": [
  {
   "cell_type": "markdown",
   "metadata": {},
   "source": [
    "## Roof_Modeling"
   ]
  },
  {
   "cell_type": "code",
   "execution_count": 1,
   "metadata": {
    "collapsed": false
   },
   "outputs": [
    {
     "name": "stdout",
     "output_type": "stream",
     "text": [
      "Evaluating fenvs.py..\n",
      "...fenvs.py imported in 0.013292378203 seconds\n"
     ]
    },
    {
     "name": "stderr",
     "output_type": "stream",
     "text": [
      "C:\\Program Files (x86)\\Anaconda2\\lib\\site-packages\\larlib-0.3.2-py2.7.egg\\larlib\\larstruct.py:233: FutureWarning: comparison to `None` will result in an elementwise object comparison in the future.\n",
      "  self.body = [item for item in data if item != None]\n"
     ]
    }
   ],
   "source": [
    "from larlib import *"
   ]
  },
  {
   "cell_type": "code",
   "execution_count": 2,
   "metadata": {
    "collapsed": false
   },
   "outputs": [],
   "source": [
    "def buildRoof():\n",
    "    \"\"\"Builds roof by connecting similar base and top with sloping planes\"\"\"\n",
    "    points1 = [[0,4,0],[0,8,0],[3,12,0],[6,8,0],[6,4,0],[3,0,0]]\n",
    "    cells1 = [[1,2,3,4,5,6]]\n",
    "\n",
    "    points2 = [[1.5,5,4],[1.5,7,4],[3,9,4],[4.5,7,4],[4.5,5,4],[3,3,4]]\n",
    "    cells2 = [[6,5,4,3,2,1]]\n",
    "\n",
    "    base = MKPOL([points1,cells1,None])\n",
    "    top = MKPOL([points2,cells2,None])\n",
    "    topAndBase = (TEXTURE([\"wallTexture.jpeg\",TRUE, FALSE, 1, 1, 0, 1, 1]))(STRUCT([base,top]))\n",
    "\n",
    "    planePoints = [points1[0],points2[0],points2[5],points1[5]]\n",
    "    planes = (TEXTURE([\"roofTexture.jpeg\",TRUE, FALSE, 1, 1, 0, 1, 1]))(MKPOL([planePoints,[[4,3,2,1]],None]))\n",
    "\n",
    "    for i in range(len(points1)-1):\n",
    "        planePoints = [points1[i],points2[i],points2[i+1],points1[i+1]]\n",
    "        plane = MKPOL([planePoints,[[1,2,3,4]],None])\n",
    "        planes = STRUCT([planes,(TEXTURE([\"roofTexture.jpeg\",TRUE, FALSE, 1, 1, 0, 1, 1]))(plane)])\n",
    "\n",
    "    struct = STRUCT([planes,topAndBase])\n",
    "    VIEW(struct)\n",
    "    return struct"
   ]
  },
  {
   "cell_type": "code",
   "execution_count": 3,
   "metadata": {
    "collapsed": false
   },
   "outputs": [
    {
     "data": {
      "text/plain": [
       "<pyplasm.xgepy.Hpc; proxy of <Swig Object of type 'std::shared_ptr< Hpc > *' at 0x03BA8428> >"
      ]
     },
     "execution_count": 3,
     "metadata": {},
     "output_type": "execute_result"
    }
   ],
   "source": [
    "buildRoof()"
   ]
  },
  {
   "cell_type": "markdown",
   "metadata": {},
   "source": [
    "<img src=\"files/roof1.png\">\n",
    "<img src=\"files/roof2.png\">"
   ]
  },
  {
   "cell_type": "code",
   "execution_count": null,
   "metadata": {
    "collapsed": true
   },
   "outputs": [],
   "source": []
  }
 ],
 "metadata": {
  "anaconda-cloud": {},
  "kernelspec": {
   "display_name": "Python [default]",
   "language": "python",
   "name": "python2"
  },
  "language_info": {
   "codemirror_mode": {
    "name": "ipython",
    "version": 2
   },
   "file_extension": ".py",
   "mimetype": "text/x-python",
   "name": "python",
   "nbconvert_exporter": "python",
   "pygments_lexer": "ipython2",
   "version": "2.7.12"
  }
 },
 "nbformat": 4,
 "nbformat_minor": 1
}
