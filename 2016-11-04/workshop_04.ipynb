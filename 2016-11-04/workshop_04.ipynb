{
 "cells": [
  {
   "cell_type": "markdown",
   "metadata": {},
   "source": [
    "## my_roof_builder"
   ]
  },
  {
   "cell_type": "markdown",
   "metadata": {},
   "source": [
    "### [**Esempio 1**](http://4-homedecor.com/wp-content/uploads/2015/03/Contemporary-Home-Roof-Photo.jpg)"
   ]
  },
  {
   "cell_type": "code",
   "execution_count": 4,
   "metadata": {
    "collapsed": false
   },
   "outputs": [
    {
     "name": "stdout",
     "output_type": "stream",
     "text": [
      "Evaluating fenvs.py..\n",
      "...fenvs.py imported in 0.00596600478288 seconds\n"
     ]
    },
    {
     "name": "stderr",
     "output_type": "stream",
     "text": [
      "C:\\Program Files (x86)\\Anaconda2\\lib\\site-packages\\larlib-0.3.2-py2.7.egg\\larlib\\larstruct.py:233: FutureWarning: comparison to `None` will result in an elementwise object comparison in the future.\n",
      "  self.body = [item for item in data if item != None]\n"
     ]
    }
   ],
   "source": [
    "from larlib import *"
   ]
  },
  {
   "cell_type": "code",
   "execution_count": 5,
   "metadata": {
    "collapsed": false
   },
   "outputs": [],
   "source": [
    "verts1 = [[0,0,0],[6,0,0],[0,3,0],[6,3,0],[1.5,1.5,3],[4.5,1.5,3],[1.5,1.5,0],[4.5,1.5,0]]\n",
    "cells1 = [[3,4,2,1],[2,6,5,1],[3,5,6,4],[2,4,6],[5,3,1],[5,6,8,7],[1,3,7],[2,8,4]]\n",
    "verts2 = [[0,0,0],[18,0,0],[18,9,0],[0,9,0],[6,3,0],[12,3,0],[12,6,0],[6,6,0],[6,3,6],[12,3,6],[12,6,6],[6,6,6]]\n",
    "cells2 = [[1,2,10,9],[10,2,3,11],[12,11,3,4],[1,9,12,4],[9,10,11,12],[1,2,6,5],[6,2,3,7],[8,7,3,4],[1,5,8,4],[5,6,7,8],[5,6,10,9],[6,7,11,10],[8,7,11,12],[5,8,12,9]]\n",
    "\n",
    "verts3 = [[0,0,0],[8,0,0],[0,4,0],[8,4,0],[2,2,4],[6,2,4],[2,2,0],[6,2,0]]\n",
    "cells3 = [[3,4,2,1],[2,6,5,1],[3,5,6,4],[2,4,6],[5,3,1],[5,6,8,7],[1,3,7],[2,8,4]]\n",
    "verts4 = [[0,0,0],[24,0,0],[24,12,0],[0,12,0],[8,4,0],[16,4,0],[16,8,0],[8,8,0],[8,4,8],[16,4,8],[16,8,8],[8,8,8]]\n",
    "cells4 = [[1,2,10,9],[10,2,3,11],[12,11,3,4],[1,9,12,4],[9,10,11,12],[1,2,6,5],[6,2,3,7],[8,7,3,4],[1,5,8,4],[5,6,7,8],[5,6,10,9],[6,7,11,10],[8,7,11,12],[5,8,12,9]]"
   ]
  },
  {
   "cell_type": "code",
   "execution_count": 6,
   "metadata": {
    "collapsed": true
   },
   "outputs": [],
   "source": [
    "def getRoofStructure(verts,cells):\n",
    "    \"\"\"Creates the structure of a roof when given its verts and cells.\n",
    "    After making the roof's shape, this is used to get the solid roof frame with the OFFSET function.\n",
    "    The covering is made by subtracting from the solid shape of the roof everything except for the external surfaces.\"\"\"\n",
    "    ov = 0.2 #offset value\n",
    "    rShape = MKPOL([verts,cells,None]) #shape of the roof\n",
    "    rSkel = SKEL_1(rShape) #skeleton of the roof\n",
    "    rFrame = OFFSET([ov,ov,ov])(rSkel) #solid frame of the roof\n",
    "    rSize = SIZE([1,2,3])(BOX([1,2,3])(rShape)) #size of the roof\n",
    "    rBasis = T([1,2,3])([ov/2,ov/2,0])(CUBOID([rSize[0], rSize[1],ov])) #basis of the roof\n",
    "    rCells = T([1,2,3])([ov/2,ov/2,ov])(SKEL_2(rShape)) #cells of the roof\n",
    "    a = JOIN([rCells,rBasis])\n",
    "    b = JOIN([rFrame,a])\n",
    "    rCovering = DIFFERENCE([b,a]) #covering of the roof\n",
    "    VIEW(rCovering)\n",
    "    roof = COLOR(BLUE)(STRUCT([rCovering,rFrame]))\n",
    "    return roof"
   ]
  },
  {
   "cell_type": "code",
   "execution_count": 7,
   "metadata": {
    "collapsed": false
   },
   "outputs": [],
   "source": [
    "def ggpl_my_roof_builder(verts1,cells1,verts2,cells2):\n",
    "    \"\"\"Creates the two parts of the considerated roof and shows them in unique structure. \n",
    "    The first two parameters, verts1 and cells1, are used to create the top part of the roof.\n",
    "    The last two parameters, verts2 and cells2, are used to create the bottom part of the roof\"\"\"\n",
    "    top = getRoofStructure(verts1,cells1) #top part of the roof\n",
    "    bottom = getRoofStructure(verts2,cells2) #bottom part of the roof\n",
    "    roofCompleted = STRUCT([bottom,T([1,2,3])(verts2[8]),top])\n",
    "    skel = COLOR(BLACK)(SKEL_1(roofCompleted)) #skeleton used only for a better view of the completed roof\n",
    "    VIEW(STRUCT([skel,roofCompleted]))\n",
    "    return roofCompleted"
   ]
  },
  {
   "cell_type": "code",
   "execution_count": 8,
   "metadata": {
    "collapsed": false
   },
   "outputs": [
    {
     "data": {
      "text/plain": [
       "<pyplasm.xgepy.Hpc; proxy of <Swig Object of type 'std::shared_ptr< Hpc > *' at 0x03C1F1E8> >"
      ]
     },
     "execution_count": 8,
     "metadata": {},
     "output_type": "execute_result"
    }
   ],
   "source": [
    "ggpl_my_roof_builder(verts1,cells1,verts2,cells2)"
   ]
  },
  {
   "cell_type": "markdown",
   "metadata": {},
   "source": [
    "<img src=\"files/roof1.png\">"
   ]
  },
  {
   "cell_type": "code",
   "execution_count": 88,
   "metadata": {
    "collapsed": false
   },
   "outputs": [
    {
     "data": {
      "text/plain": [
       "<pyplasm.xgepy.Hpc; proxy of <Swig Object of type 'std::shared_ptr< Hpc > *' at 0x03DABC68> >"
      ]
     },
     "execution_count": 88,
     "metadata": {},
     "output_type": "execute_result"
    }
   ],
   "source": [
    "ggpl_my_roof_builder(verts3,cells3,verts4,cells4)"
   ]
  },
  {
   "cell_type": "markdown",
   "metadata": {},
   "source": [
    "<img src=\"files/roof2.png\">"
   ]
  },
  {
   "cell_type": "code",
   "execution_count": null,
   "metadata": {
    "collapsed": true
   },
   "outputs": [],
   "source": []
  }
 ],
 "metadata": {
  "anaconda-cloud": {},
  "kernelspec": {
   "display_name": "Python [default]",
   "language": "python",
   "name": "python2"
  },
  "language_info": {
   "codemirror_mode": {
    "name": "ipython",
    "version": 2
   },
   "file_extension": ".py",
   "mimetype": "text/x-python",
   "name": "python",
   "nbconvert_exporter": "python",
   "pygments_lexer": "ipython2",
   "version": "2.7.12"
  }
 },
 "nbformat": 4,
 "nbformat_minor": 1
}
