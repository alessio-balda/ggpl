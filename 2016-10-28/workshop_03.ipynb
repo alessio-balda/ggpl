{
 "cells": [
  {
   "cell_type": "markdown",
   "metadata": {},
   "source": [
    "# double_straight_stairs"
   ]
  },
  {
   "cell_type": "markdown",
   "metadata": {},
   "source": [
    "### [**Esempio 1**](http://media-cache-ec0.pinimg.com/736x/74/bc/91/74bc9139b7f3172b3d680b21ff9b4a00.jpg)\n",
    "### [**Esempio 2**](http://st.hzcdn.com/fimgs/36617b3d054d4b4a_4646-w500-h400-b0-p0--traditional-entry.jpg)"
   ]
  },
  {
   "cell_type": "code",
   "execution_count": 1,
   "metadata": {
    "collapsed": false
   },
   "outputs": [
    {
     "name": "stdout",
     "output_type": "stream",
     "text": [
      "Evaluating fenvs.py..\n",
      "...fenvs.py imported in 0.00617455588451 seconds\n"
     ]
    },
    {
     "name": "stderr",
     "output_type": "stream",
     "text": [
      "C:\\Program Files (x86)\\Anaconda2\\lib\\site-packages\\larlib-0.3.2-py2.7.egg\\larlib\\larstruct.py:233: FutureWarning: comparison to `None` will result in an elementwise object comparison in the future.\n",
      "  self.body = [item for item in data if item != None]\n"
     ]
    }
   ],
   "source": [
    "from larlib import *"
   ]
  },
  {
   "cell_type": "code",
   "execution_count": 2,
   "metadata": {
    "collapsed": false
   },
   "outputs": [],
   "source": [
    "def ggpl_double_straight_stairs(dx,dy,dz):\n",
    "    \"\"\"Creates and shows a model of double straight stairs when given a fitting slope. \n",
    "       After checking the slope, the height of a single step is estimated with the Blondel formula.\n",
    "       Then, the number of steps, their rise and their treads are calculated and used \n",
    "       for creating the HPC value of the stairs.\"\"\"\n",
    "    tr=dz #total rise of the stair\n",
    "    fl=dx #length of the flight\n",
    "    top=dx/2. #length of the landing on top of the stairs\n",
    "    if not(check(tr,fl)):\n",
    "        print(\"Please insert suitable parameters\")\n",
    "        return\n",
    "    a=0.63*tr/(fl+2*tr) #estimated height of a step\n",
    "    nSteps=int(round(tr/a)) #number of steps on a stair\n",
    "    sx=fl/nSteps #tread of a step\n",
    "    sy=dy/4. #width of a step\n",
    "    sz=tr/nSteps #rise of a step\n",
    "    stair=CUBOID([sx,sy,sz*nSteps]) #HPC value for the whole stair\n",
    "    for i in range(1,nSteps):\n",
    "        stair=STRUCT([stair,T([1])([sx*i]),CUBOID([sx,sy,sz*(nSteps-i)])])\n",
    "    stair=T(1)(top)(stair)\n",
    "    doubleStairs=STRUCT([stair,T(2)(dy-sy),stair])\n",
    "    landing=COLOR(RED)(CUBOID([top,dy,tr])) #landing on top of the stairs\n",
    "    footing=COLOR(RED)(CUBOID([fl+top,dy])) #floor on the bottom of the stairs\n",
    "    box=STRUCT([footing,landing,doubleStairs])\n",
    "    VIEW(box)\n",
    "    return box\n",
    "    "
   ]
  },
  {
   "cell_type": "code",
   "execution_count": 3,
   "metadata": {
    "collapsed": true
   },
   "outputs": [],
   "source": [
    "def check(tr,fl):\n",
    "    \"\"\"Checks if parameters are suitable for making an actual stair\"\"\"\n",
    "    alfa=ATAN(tr/fl)*180/PI #the angle of the stair\n",
    "    print(alfa)\n",
    "    if not(28<alfa<36):\n",
    "        return 0\n",
    "    return 1"
   ]
  },
  {
   "cell_type": "code",
   "execution_count": 4,
   "metadata": {
    "collapsed": false
   },
   "outputs": [
    {
     "name": "stdout",
     "output_type": "stream",
     "text": [
      "34.5085229877\n"
     ]
    },
    {
     "data": {
      "text/plain": [
       "<pyplasm.xgepy.Hpc; proxy of <Swig Object of type 'std::shared_ptr< Hpc > *' at 0x0363F410> >"
      ]
     },
     "execution_count": 4,
     "metadata": {},
     "output_type": "execute_result"
    }
   ],
   "source": [
    "ggpl_double_straight_stairs(16.,20.,11.)"
   ]
  },
  {
   "cell_type": "markdown",
   "metadata": {
    "collapsed": true
   },
   "source": [
    "<img src=\"files/stairs1.png\">"
   ]
  },
  {
   "cell_type": "code",
   "execution_count": 13,
   "metadata": {
    "collapsed": false
   },
   "outputs": [
    {
     "name": "stdout",
     "output_type": "stream",
     "text": [
      "33.690067526\n"
     ]
    },
    {
     "data": {
      "text/plain": [
       "<pyplasm.xgepy.Hpc; proxy of <Swig Object of type 'std::shared_ptr< Hpc > *' at 0x0363F338> >"
      ]
     },
     "execution_count": 13,
     "metadata": {},
     "output_type": "execute_result"
    }
   ],
   "source": [
    "ggpl_double_straight_stairs(9.,8.,6.)"
   ]
  },
  {
   "cell_type": "markdown",
   "metadata": {},
   "source": [
    "<img src=\"files/stairs2.png\">"
   ]
  }
 ],
 "metadata": {
  "anaconda-cloud": {},
  "kernelspec": {
   "display_name": "Python [default]",
   "language": "python",
   "name": "python2"
  },
  "language_info": {
   "codemirror_mode": {
    "name": "ipython",
    "version": 2
   },
   "file_extension": ".py",
   "mimetype": "text/x-python",
   "name": "python",
   "nbconvert_exporter": "python",
   "pygments_lexer": "ipython2",
   "version": "2.7.12"
  }
 },
 "nbformat": 4,
 "nbformat_minor": 1
}
