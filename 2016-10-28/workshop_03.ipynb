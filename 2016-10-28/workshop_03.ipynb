{
 "cells": [
  {
   "cell_type": "markdown",
   "metadata": {},
   "source": [
    "# double_straight_stairs"
   ]
  },
  {
   "cell_type": "markdown",
   "metadata": {},
   "source": [
    "### [**Esempio 1**](http://media-cache-ec0.pinimg.com/736x/74/bc/91/74bc9139b7f3172b3d680b21ff9b4a00.jpg)\n",
    "### [**Esempio 2**](http://st.hzcdn.com/fimgs/36617b3d054d4b4a_4646-w500-h400-b0-p0--traditional-entry.jpg)"
   ]
  },
  {
   "cell_type": "code",
   "execution_count": 1,
   "metadata": {
    "collapsed": false
   },
   "outputs": [
    {
     "name": "stdout",
     "output_type": "stream",
     "text": [
      "Evaluating fenvs.py..\n",
      "...fenvs.py imported in 0.00610457033342 seconds\n"
     ]
    },
    {
     "name": "stderr",
     "output_type": "stream",
     "text": [
      "C:\\Program Files (x86)\\Anaconda2\\lib\\site-packages\\larlib-0.3.2-py2.7.egg\\larlib\\larstruct.py:233: FutureWarning: comparison to `None` will result in an elementwise object comparison in the future.\n",
      "  self.body = [item for item in data if item != None]\n"
     ]
    }
   ],
   "source": [
    "from larlib import *\n",
    "from math import *"
   ]
  },
  {
   "cell_type": "code",
   "execution_count": 6,
   "metadata": {
    "collapsed": false
   },
   "outputs": [],
   "source": [
    "def ggpl_double_straight_stairs(dx,dy,dz):\n",
    "    \"\"\"Creates and shows a model of double straight stairs when given a fitting slope\"\"\"\n",
    "    tr=dz/2. #total rise of the stair\n",
    "    top=dx/4. #height of the landing on top of the stairs\n",
    "    fl=dx-top #length of the flight\n",
    "    if not(check(tr,fl)):\n",
    "        print(\"Please insert suitable parameters\")\n",
    "        return\n",
    "    footing=COLOR(RED)(CUBOID([dx,dy])) #floor on the bottom of the stairs\n",
    "    landing=COLOR(RED)(CUBOID([top,dy,tr])) #landing on top of the stairs\n",
    "    sy=dy/4. #width of a step\n",
    "    sz=0.15 #rise of a step\n",
    "    nSteps=int(round(tr/sz)) #number of steps on a stair\n",
    "    sx=fl/nSteps #tread of a step\n",
    "    step=CUBOID([sx,sy,sz*nSteps]) #single step\n",
    "    stair=step\n",
    "    for i in range(1,nSteps):\n",
    "        stair=STRUCT([stair,T([1])([sx*i]),CUBOID([sx,sy,sz*(nSteps-i)])])\n",
    "    stair=T(1)(top)(stair)\n",
    "    doubleStairs=STRUCT([stair,T(2)(dy-sy),stair])\n",
    "    box=STRUCT([footing,landing,doubleStairs])\n",
    "    a=BOX([1,2,3])(box)\n",
    "    VIEW(box)\n",
    "    return\n",
    "\n",
    "def check(tr,fl):\n",
    "    \"\"\"Checks if parameters are suitable\"\"\"\n",
    "    alfa=ATAN(tr/fl)*180/math.pi #the angle of the stair\n",
    "    print(alfa)\n",
    "    if not(28<alfa<36):\n",
    "        return 0\n",
    "    return 1\n",
    "    "
   ]
  },
  {
   "cell_type": "code",
   "execution_count": 7,
   "metadata": {
    "collapsed": false
   },
   "outputs": [
    {
     "name": "stdout",
     "output_type": "stream",
     "text": [
      "33.690067526\n"
     ]
    }
   ],
   "source": [
    "ggpl_double_straight_stairs(6,10,6)"
   ]
  },
  {
   "cell_type": "markdown",
   "metadata": {
    "collapsed": true
   },
   "source": [
    "<img src=\"files/stairs1.png\">"
   ]
  },
  {
   "cell_type": "code",
   "execution_count": 13,
   "metadata": {
    "collapsed": false
   },
   "outputs": [
    {
     "name": "stdout",
     "output_type": "stream",
     "text": [
      "35.537677792\n"
     ]
    }
   ],
   "source": [
    "ggpl_double_straight_stairs(14,30,15)"
   ]
  },
  {
   "cell_type": "markdown",
   "metadata": {},
   "source": [
    "<img src=\"files/stairs2.png\">"
   ]
  }
 ],
 "metadata": {
  "anaconda-cloud": {},
  "kernelspec": {
   "display_name": "Python [default]",
   "language": "python",
   "name": "python2"
  },
  "language_info": {
   "codemirror_mode": {
    "name": "ipython",
    "version": 2
   },
   "file_extension": ".py",
   "mimetype": "text/x-python",
   "name": "python",
   "nbconvert_exporter": "python",
   "pygments_lexer": "ipython2",
   "version": "2.7.12"
  }
 },
 "nbformat": 4,
 "nbformat_minor": 1
}
