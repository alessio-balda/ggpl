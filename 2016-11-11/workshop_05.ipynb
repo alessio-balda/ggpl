{
 "cells": [
  {
   "cell_type": "markdown",
   "metadata": {},
   "source": [
    "## my_school_forniture"
   ]
  },
  {
   "cell_type": "markdown",
   "metadata": {},
   "source": [
    "### [**Esempio**](http://www.strettoweb.com/wp-content/uploads/2014/11/scuola-3.jpg)\n",
    "#### [**Libreria**](https://www.duzzle.it/spree/products/3313/original/duzzle-mobiletti-scaffale-libreria-ripiani-sei_ripiani_a_giorno-legno.jpg)\n",
    "#### [**Cestino**](http://www.massardi.com/files/acatalog1/product/9037.jpg)\n"
   ]
  },
  {
   "cell_type": "code",
   "execution_count": 1,
   "metadata": {
    "collapsed": false
   },
   "outputs": [
    {
     "name": "stdout",
     "output_type": "stream",
     "text": [
      "Evaluating fenvs.py..\n",
      "...fenvs.py imported in 0.00964040685279 seconds\n"
     ]
    },
    {
     "name": "stderr",
     "output_type": "stream",
     "text": [
      "C:\\Program Files (x86)\\Anaconda2\\lib\\site-packages\\larlib-0.3.2-py2.7.egg\\larlib\\larstruct.py:233: FutureWarning: comparison to `None` will result in an elementwise object comparison in the future.\n",
      "  self.body = [item for item in data if item != None]\n"
     ]
    }
   ],
   "source": [
    "from larlib import *"
   ]
  },
  {
   "cell_type": "code",
   "execution_count": 2,
   "metadata": {
    "collapsed": false
   },
   "outputs": [],
   "source": [
    "dx = [0.52,0.65,0.8,0.4,0.08,0.2]\n",
    "dy = [0.49,1.5,1.8,1.6,3.,0]\n",
    "dz = [0.83,0.65,0.7,2.,1.5,0.4]\n",
    "\n",
    "\"\"\"Chair measures\"\"\"\n",
    "clw = 0.04 #leg's width\n",
    "sh = 0.03 #seat's height\n",
    "spw = 0.02 #splat's width\n",
    "sph = 0.2 #splat's height\n",
    "\n",
    "\"\"\"Table measures\"\"\"\n",
    "tw = 0.05 #table's width\n",
    "tlr = 0.04 #leg's radius\n",
    "\n",
    "\"\"\"Desk measures\"\"\"\n",
    "dw = 0.07 #desk's width\n",
    "dlw = 0.06 #leg's width\n",
    "\n",
    "\"\"\"Library measures\"\"\"\n",
    "lsh = 0.03 #library shelf's height\n",
    "lcw = 0.05 #library column's width\n",
    "\n",
    "\"\"\"Blackboard measures\"\"\"\n",
    "bfw = 0.06 #blackboard frame's width\n",
    "\n",
    "\"\"\"Trash bin measures\"\"\"\n",
    "tbw = 0.01\n",
    "\n",
    "\"\"\"Wood color\"\"\"\n",
    "wood = Color4f(182/255.,155/255.,76/255.)"
   ]
  },
  {
   "cell_type": "code",
   "execution_count": 3,
   "metadata": {
    "collapsed": true
   },
   "outputs": [],
   "source": [
    "def getSize(hpc):\n",
    "    \"\"\"Get size of an object of type hpc\"\"\"\n",
    "    box=BOX([1,2,3])(hpc)\n",
    "    size = SIZE([1,2,3])(box)\n",
    "    return size"
   ]
  },
  {
   "cell_type": "code",
   "execution_count": 4,
   "metadata": {
    "collapsed": true
   },
   "outputs": [],
   "source": [
    "def zRotate(hpc,angle):\n",
    "    \"\"\"Rotate and object of type hpc around the z axys\"\"\"\n",
    "    size = getSize(hpc)\n",
    "    return R([1,2])(angle)(T([1,2])([-size[0]/2.,-size[1]/2.])(hpc))"
   ]
  },
  {
   "cell_type": "code",
   "execution_count": 5,
   "metadata": {
    "collapsed": false
   },
   "outputs": [],
   "source": [
    "def build_chair(dx,dy,dz):\n",
    "    \"\"\"Builds a chair with cylindric legs\"\"\"\n",
    "    seat = T(3)(dz/2)(CUBOID([dx,dy,sh]))\n",
    "    leg = T([1,2])([dx/10,dy/10])(CYLINDER([clw/2,dz/2])(24))\n",
    "    legs = STRUCT([leg,T(2)(dy*8/10),leg])\n",
    "    legs = COLOR(BLACK)(STRUCT([legs,T(1)(dx*8/10),legs]))\n",
    "    stile = CUBOID([clw,clw,dz/2-sh])\n",
    "    stiles = T(3)(dz/2+sh)(STRUCT([stile,T(2)(dy-clw),stile]))\n",
    "    splat = T([1,2,3])([clw/4,clw,dz-sph])(CUBOID([spw,dy-2*clw,sph]))\n",
    "    chair = COLOR(wood)(STRUCT([seat,stiles,splat]))\n",
    "    chair = STRUCT([legs,chair])\n",
    "    return chair"
   ]
  },
  {
   "cell_type": "code",
   "execution_count": 6,
   "metadata": {
    "collapsed": false
   },
   "outputs": [],
   "source": [
    "def build_table(dx,dy,dz):\n",
    "    \"\"\"Builds a table with a plane under the top surface\"\"\"\n",
    "    plane = COLOR(wood)(T(3)(dz-tw)(CUBOID([dx,dy,tw])))\n",
    "    lowerPlane = COLOR(BLACK)(T([1,2,3])([dx/10,dy/10,dz-tw*3])(CUBOID([dx*8/10,dy*8/10,tw/2])))\n",
    "    leg = T([1,2])([dx/10,dy/10])(CYLINDER([tlr,dz-tw])(24))\n",
    "    legs = STRUCT([leg,T(2)(dy*8/10),leg])\n",
    "    legs = COLOR(BLACK)(STRUCT([legs,T(1)(dx*8/10),legs]))\n",
    "    table = STRUCT([legs,plane,lowerPlane])\n",
    "    return table"
   ]
  },
  {
   "cell_type": "code",
   "execution_count": 7,
   "metadata": {
    "collapsed": false
   },
   "outputs": [],
   "source": [
    "def build_desk(dx,dy,dz):\n",
    "    \"\"\"Builds a desk with boards covering under the table\"\"\"\n",
    "    plane = COLOR(wood)(T(3)(dz-dw)(CUBOID([dx,dy,dw])))\n",
    "    leg = T([1,2])([dlw*2,dlw*2])(CUBOID([dlw,dlw,dz-dw]))\n",
    "    legs = STRUCT([leg,T(2)(dy-dlw*5),leg])\n",
    "    legs = COLOR(wood)(STRUCT([legs,T(1)(dx-dlw*5),legs]))\n",
    "    frontBoard = COLOR(wood)(T([1,2,3])([2.5*dlw,3*dlw,dw])(CUBOID([dlw/2,dy-6*dlw,dz-2*dw])))\n",
    "    lateralBoard = COLOR(wood)(T([1,2,3])([3*dlw,2.5*dlw,dw])(CUBOID([dx-6*dlw,dlw/2,dz-2*dw])))\n",
    "    boards = STRUCT([frontBoard,lateralBoard,T(2)(dy-5.5*dlw),lateralBoard])\n",
    "    desk = STRUCT([legs,plane,boards])\n",
    "    return desk"
   ]
  },
  {
   "cell_type": "code",
   "execution_count": 8,
   "metadata": {
    "collapsed": true
   },
   "outputs": [],
   "source": [
    "def build_library(dx,dy,dz):\n",
    "    \"\"\"Builds a library with 7 shelves\"\"\"\n",
    "    library = DIFFERENCE([CUBOID([dx,dy,dz]),T([1,2,3])([lsh,lcw,lsh])(CUBOID([dx-lsh,dy-lcw*2,dz-lsh*2]))])\n",
    "    shelf = T([1,2,3])([lsh,lcw,dz/7])(CUBOID([dx-lsh,dy-lcw*2,lsh]))\n",
    "    shelves = STRUCT(NN(6)([shelf,T(3)(dz/7)]))\n",
    "    library = COLOR(wood)(STRUCT([library,shelves]))\n",
    "    return library"
   ]
  },
  {
   "cell_type": "code",
   "execution_count": 9,
   "metadata": {
    "collapsed": false
   },
   "outputs": [],
   "source": [
    "def build_backboard(dx,dy,dz):\n",
    "    \"\"\"Builds a blackboard. First, it creates che board, then the wood frame\"\"\"\n",
    "    board = COLOR(BLACK)(CUBOID([0,dy-bfw*2,dz-bfw*2]))\n",
    "    frame = COLOR(wood)(DIFFERENCE([CUBOID([dx,dy,dz]),T([1,2,3])([dx/2,bfw,bfw])(CUBOID([dx/2,dy-bfw*2,dz-bfw*2]))]))\n",
    "    blackboard = STRUCT([frame,T([1,2,3])([dx/2,bfw,bfw]),board])\n",
    "    return blackboard"
   ]
  },
  {
   "cell_type": "code",
   "execution_count": 10,
   "metadata": {
    "collapsed": false
   },
   "outputs": [],
   "source": [
    "def build_trash_bin(dx,dy,dz):\n",
    "    \"\"\"Builds a trash bin by substracting from a cylinder a smaller cylinder\"\"\"\n",
    "    trashBin = DIFFERENCE([CYLINDER([dx/2,dz])(48),T([3])([tbw])(CYLINDER([dx/2-tbw,dz-tbw])(48))])\n",
    "    return trashBin"
   ]
  },
  {
   "cell_type": "code",
   "execution_count": 11,
   "metadata": {
    "collapsed": false
   },
   "outputs": [],
   "source": [
    "def ggpl_my_forniture(dx,dy,dz):\n",
    "    \"\"\"Creates and show the furnishings of high schools\"\"\"\n",
    "    chair = build_chair(dx[0],dy[0],dz[0])\n",
    "    table = build_table(dx[1],dy[1],dz[1])\n",
    "    desk = build_desk(dx[2],dy[2],dz[2])\n",
    "    deskNchair = STRUCT([desk,T([1,2])([dx[2],dy[2]/2]),zRotate(chair,PI)])\n",
    "    library = build_library(dx[3],dy[3],dz[3])\n",
    "    blackboard = build_backboard(dx[4],dy[4],dz[4])\n",
    "    trashBin = build_trash_bin(dx[5],dy[5],dz[5])\n",
    "    forniture = STRUCT([table,T([1,2])([-dx[1]/10,dy[1]*1.5/10]),chair,T(2)(dy[1]*.5/10+dy[0]),chair])\n",
    "    forniture = STRUCT(NN(3)([forniture,T(2)(dy[1]+0.5)]))\n",
    "    forniture = STRUCT(NN(4)([forniture,T(1)(dx[1]+1)]))\n",
    "    classSize = getSize(forniture)\n",
    "    forniture = STRUCT([forniture,T([1,2])([classSize[0]+1.5,classSize[1]/2-dy[2]/2]),deskNchair])\n",
    "    classSize = getSize(forniture)\n",
    "    forniture = STRUCT([forniture,T([1,2,3])([classSize[0]+1,classSize[1]/2,classSize[2]]),zRotate(blackboard,PI)])\n",
    "    forniture = STRUCT([forniture,T(1)(classSize[0]),trashBin])\n",
    "    classSize = getSize(forniture)\n",
    "    forniture = STRUCT([forniture,T([1,2])([classSize[0],classSize[1]]),zRotate(library,PI)])\n",
    "    VIEW(forniture)\n",
    "    return forniture\n",
    "    "
   ]
  },
  {
   "cell_type": "code",
   "execution_count": 12,
   "metadata": {
    "collapsed": false
   },
   "outputs": [
    {
     "data": {
      "text/plain": [
       "<pyplasm.xgepy.Hpc; proxy of <Swig Object of type 'std::shared_ptr< Hpc > *' at 0x03C06F38> >"
      ]
     },
     "execution_count": 12,
     "metadata": {},
     "output_type": "execute_result"
    }
   ],
   "source": [
    "ggpl_my_forniture(dx,dy,dz)"
   ]
  },
  {
   "cell_type": "markdown",
   "metadata": {},
   "source": [
    "<img src=\"files/class1.png\">\n",
    "<img src=\"files/chair.png\">\n",
    "<img src=\"files/table.png\">\n",
    "<img src=\"files/desk.png\">\n",
    "<img src=\"files/library.png\">\n",
    "<img src=\"files/blackboard.png\">\n",
    "<img src=\"files/tb.png\">\n"
   ]
  }
 ],
 "metadata": {
  "anaconda-cloud": {},
  "kernelspec": {
   "display_name": "Python [default]",
   "language": "python",
   "name": "python2"
  },
  "language_info": {
   "codemirror_mode": {
    "name": "ipython",
    "version": 2
   },
   "file_extension": ".py",
   "mimetype": "text/x-python",
   "name": "python",
   "nbconvert_exporter": "python",
   "pygments_lexer": "ipython2",
   "version": "2.7.12"
  }
 },
 "nbformat": 4,
 "nbformat_minor": 1
}
