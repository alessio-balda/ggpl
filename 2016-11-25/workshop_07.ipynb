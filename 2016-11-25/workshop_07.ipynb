{
 "cells": [
  {
   "cell_type": "markdown",
   "metadata": {},
   "source": [
    "## Design_of_doors_and_windows"
   ]
  },
  {
   "cell_type": "markdown",
   "metadata": {},
   "source": [
    "### [**Esempio porta**](https://s-media-cache-ak0.pinimg.com/236x/c8/c5/d4/c8c5d4e373473be213d3ec326590317f.jpg)\n",
    "### [**Esempio finestra**](https://s-media-cache-ak0.pinimg.com/originals/1b/8f/37/1b8f37389e00e8538d31d634ae85aba4.jpg)"
   ]
  },
  {
   "cell_type": "code",
   "execution_count": 1,
   "metadata": {
    "collapsed": false
   },
   "outputs": [
    {
     "name": "stdout",
     "output_type": "stream",
     "text": [
      "Evaluating fenvs.py..\n",
      "...fenvs.py imported in 0.0131585392878 seconds\n"
     ]
    },
    {
     "name": "stderr",
     "output_type": "stream",
     "text": [
      "C:\\Program Files (x86)\\Anaconda2\\lib\\site-packages\\larlib-0.3.2-py2.7.egg\\larlib\\larstruct.py:233: FutureWarning: comparison to `None` will result in an elementwise object comparison in the future.\n",
      "  self.body = [item for item in data if item != None]\n"
     ]
    }
   ],
   "source": [
    "from larlib import *"
   ]
  },
  {
   "cell_type": "code",
   "execution_count": 2,
   "metadata": {
    "collapsed": true
   },
   "outputs": [],
   "source": [
    "\"\"\"Parameters for lateral quotes\"\"\"\n",
    "Xd = [0.15, 0.5, 0.1, 0.5, 0.1, 0.5, 0.15]\n",
    "Yd = [0.15, 0.5, 0.15]\n",
    "Zd = [0.04]\n",
    "\n",
    "Xw = [0.3, 0.04, 0.3, 0.04, 0.3, 0.04, 0.3, 0.04, 0.3, 0.04, 0.3,]\n",
    "Yw = [0.2, 0.4, 0.2]\n",
    "Zw = [0.04]\n",
    "\n",
    "\"\"\"Determines if a space partition cell\"\"\"\n",
    "doorOccupancy = [1,1,1,1,0,1,1,1,1,1,0,1,1,1,1,1,0,1,1,1,1]\n",
    "windowOccupancy = [1,1,1,1,0,1,1,1,1,1,0,1,1,1,1,1,0,1,1,1,1,1,0,1,1,1,1,1,0,1,1,1,1]\n",
    "\n",
    "\"\"\"Parameters for box dimensioning\"\"\"\n",
    "dxDoor = 2.0\n",
    "dyDoor = 0.8\n",
    "dzDoor = 0.04\n",
    "\n",
    "dxWindow = 2.0\n",
    "dyWindow = 1.6\n",
    "dzWindow = 0.04\n",
    "\n"
   ]
  },
  {
   "cell_type": "code",
   "execution_count": 3,
   "metadata": {
    "collapsed": false
   },
   "outputs": [],
   "source": [
    "def door(X,Y,Z,occupancy,dx,dy,dz):\n",
    "    xyPlane = PROD([QUOTE(X),QUOTE(Y)]);\n",
    "    door = PROD([xyPlane,QUOTE(Z)])\n",
    "    a = UKPOL(door)\n",
    "    for j in range(0,len(a[1])):\n",
    "        if occupancy[j] == 0:\n",
    "            cell = a[1][j]\n",
    "            verts = []\n",
    "            minValue = min(cell)\n",
    "            for i in range(0,len(cell)):\n",
    "                verts.append(a[0][cell[i]-1])\n",
    "                cell[i] = cell[i]-minValue+1\n",
    "            c = MKPOL([verts,[cell],None])\n",
    "            door = DIFFERENCE([door,c])\n",
    "    door = COLOR(Color4f(102/255.,51/255.,0/255.))(door)\n",
    "    VIEW(door)\n",
    "    return door"
   ]
  },
  {
   "cell_type": "code",
   "execution_count": 4,
   "metadata": {
    "collapsed": true
   },
   "outputs": [],
   "source": [
    "def window(X,Y,Z,occupancy,dx,dy,dz):\n",
    "    xyPlane = PROD([QUOTE(X),QUOTE(Y)]);\n",
    "    window = PROD([xyPlane,QUOTE(Z)])\n",
    "    a = UKPOL(window)\n",
    "    for j in range(0,len(a[1])):\n",
    "        if occupancy[j] == 0:\n",
    "            cell = a[1][j]\n",
    "            verts = []\n",
    "            minValue = min(cell)\n",
    "            for i in range(0,len(cell)):\n",
    "                verts.append(a[0][cell[i]-1])\n",
    "                cell[i] = cell[i]-minValue+1\n",
    "            c = MKPOL([verts,[cell],None])\n",
    "            window = DIFFERENCE([window,c])\n",
    "    window = STRUCT([window,T(2)(dy/2),window])\n",
    "    VIEW(window)\n",
    "    return window"
   ]
  },
  {
   "cell_type": "code",
   "execution_count": 5,
   "metadata": {
    "collapsed": false
   },
   "outputs": [
    {
     "data": {
      "text/plain": [
       "<pyplasm.xgepy.Hpc; proxy of <Swig Object of type 'std::shared_ptr< Hpc > *' at 0x03691EA8> >"
      ]
     },
     "execution_count": 5,
     "metadata": {},
     "output_type": "execute_result"
    }
   ],
   "source": [
    "door(Xd,Yd,Zd,doorOccupancy,dxDoor,dyDoor,dzDoor)"
   ]
  },
  {
   "cell_type": "markdown",
   "metadata": {},
   "source": [
    "<img src=\"files/door.png\">"
   ]
  },
  {
   "cell_type": "code",
   "execution_count": 6,
   "metadata": {
    "collapsed": false
   },
   "outputs": [
    {
     "data": {
      "text/plain": [
       "<pyplasm.xgepy.Hpc; proxy of <Swig Object of type 'std::shared_ptr< Hpc > *' at 0x03691848> >"
      ]
     },
     "execution_count": 6,
     "metadata": {},
     "output_type": "execute_result"
    }
   ],
   "source": [
    "window(Xw,Yw,Zw,windowOccupancy,dxWindow,dyWindow,dzWindow)"
   ]
  },
  {
   "cell_type": "markdown",
   "metadata": {
    "collapsed": true
   },
   "source": [
    "<img src=\"files/window.png\">"
   ]
  }
 ],
 "metadata": {
  "anaconda-cloud": {},
  "kernelspec": {
   "display_name": "Python [default]",
   "language": "python",
   "name": "python2"
  },
  "language_info": {
   "codemirror_mode": {
    "name": "ipython",
    "version": 2
   },
   "file_extension": ".py",
   "mimetype": "text/x-python",
   "name": "python",
   "nbconvert_exporter": "python",
   "pygments_lexer": "ipython2",
   "version": "2.7.12"
  }
 },
 "nbformat": 4,
 "nbformat_minor": 1
}
