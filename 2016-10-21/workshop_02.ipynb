{
 "cells": [
  {
   "cell_type": "markdown",
   "metadata": {},
   "source": [
    "## [**Esempio**](http://image.made-in-china.com/43f34j00ejnErSaPgLqY/High-Rise-Prefabricated-Steel-Structure-Building-S-S-051-.jpg)"
   ]
  },
  {
   "cell_type": "code",
   "execution_count": 1,
   "metadata": {
    "collapsed": false
   },
   "outputs": [
    {
     "name": "stdout",
     "output_type": "stream",
     "text": [
      "Evaluating fenvs.py..\n",
      "...fenvs.py imported in 0.0064199399294 seconds\n"
     ]
    },
    {
     "name": "stderr",
     "output_type": "stream",
     "text": [
      "C:\\Program Files (x86)\\Anaconda2\\lib\\site-packages\\larlib-0.3.2-py2.7.egg\\larlib\\larstruct.py:233: FutureWarning: comparison to `None` will result in an elementwise object comparison in the future.\n",
      "  self.body = [item for item in data if item != None]\n"
     ]
    }
   ],
   "source": [
    "\"\"\"Creates simple parametric building structure.\"\"\"\n",
    "\n",
    "from larlib import *"
   ]
  },
  {
   "cell_type": "code",
   "execution_count": 2,
   "metadata": {
    "collapsed": false
   },
   "outputs": [],
   "source": [
    "def buildSpaceFrame(px,py,bx,bz,dy,hz):\n",
    "\t\"\"\"Creates and shows a space frame of reinforced concrete.\"\"\"\n",
    "\tpillars = buildPillars(px,py,bz,dy,hz)\n",
    "\tbeams = buildBeams(px,bx,bz,dy,hz)\n",
    "\tpillars=COLOR(RED)(pillars)\n",
    "\tbeams=COLOR(BLUE)(beams)\n",
    "\tspaceFrame=STRUCT([pillars,beams])\n",
    "\treturn spaceFrame\n",
    "\n",
    "\n",
    "def buildPillars(px,py,bz,dy,hz):\n",
    "\t\"\"\"Creates pillars of the building's space frame.\"\"\"\n",
    "\tx = [px]\n",
    "\tfor i in dy:\n",
    "\t\tx.append(-i)\n",
    "\t\tx.append(px)\n",
    "\ty = [py]\n",
    "\tbases = PROD([QUOTE(x),QUOTE(y)])\n",
    "\tl=0\n",
    "\tfor j in hz:\n",
    "\t\tpillars[l]=PROD([bases,QUOTE([j])])\n",
    "\t\tl=l+1\n",
    "\tz=hz[0]\n",
    "\tallPillars=STRUCT([pillars[0],T(3)(z+bz),pillars[1]])\n",
    "\tfor i in range(1,len(hz)-1):\n",
    "\t\tz=z+hz[i]\n",
    "\t\tallPillars=STRUCT([allPillars,T(3)([z+bz*(i+1)]),pillars[i+1]])\n",
    "\treturn allPillars\n",
    "\n",
    "def buildBeams(px,bx,bz,dy,hz):\n",
    "\t\"\"\"Creates beams of the building's space frame.\"\"\"\n",
    "\tx=[]\n",
    "\tfor i in dy:\n",
    "\t\tx.append(i+px*2)\n",
    "\ty=[bx]\n",
    "\tbases=PROD([QUOTE(x),QUOTE(y)])\n",
    "\tbeams=PROD([bases,QUOTE([bz])])\n",
    "\tbeams=T(1)(-px/2)(beams)\n",
    "\tbeams=T(3)(hz[0])(beams)\n",
    "\tz=0\n",
    "\tallBeams=beams\n",
    "\tfor i in range(1,len(hz)):\n",
    "\t\tz=z+hz[i]\n",
    "\t\tallBeams=STRUCT([allBeams,T(3)(z+bz*i),beams])\n",
    "\treturn allBeams\n",
    "\t\t"
   ]
  },
  {
   "cell_type": "code",
   "execution_count": 5,
   "metadata": {
    "collapsed": false
   },
   "outputs": [],
   "source": [
    "def ggpl_bone_structure(file_name):\n",
    "    \"\"\"Reads parameters from file_name and shows the bone structure of a building.\"\"\"\n",
    "    import csv\n",
    "    ifile  = open(file_name, \"rb\")\n",
    "    reader = csv.reader(ifile,delimiter=';')\n",
    "    frameSizes = []\n",
    "    vectors = []\n",
    "    frames = []\n",
    "    connBeams = []\n",
    "    n=0\n",
    "    startPointY=0\n",
    "    for row in reader:\n",
    "        v=[]\n",
    "        for j in row[:3]:\n",
    "            v.append(eval(j))\n",
    "        vectors.append(v)\n",
    "        evenRow=next(reader)\n",
    "        frameSizes.append(evenRow)\n",
    "    for params in frameSizes:\n",
    "        dy=[]\n",
    "        hz=[]\n",
    "        y=params[4].split()\n",
    "        z=params[5].split()\n",
    "        for d in y:\n",
    "            dy.append(eval(d))\n",
    "        for h in z:\n",
    "            hz.append(eval(h))\n",
    "        px=eval(params[0])\n",
    "        py=eval(params[1])\n",
    "        bx=eval(params[2])\n",
    "        bz=eval(params[3])\n",
    "        a = buildSpaceFrame(px,py,bx,bz,dy,hz)\n",
    "        frames.append(a)\n",
    "        if n<len(vectors)-1:\n",
    "            startPointY=startPointY+vectors[n][1]\n",
    "            b = buildConnectingBeams(px,py,bx,bz,dy,hz,vectors[n][0],startPointY,vectors[n+1][1])\n",
    "            connBeams.append(b)\n",
    "        n=n+1\n",
    "    allConnBeams = connBeams[0]\n",
    "    for k in range(1,len(connBeams)):\n",
    "        allConnBeams=STRUCT([allConnBeams,connBeams[k]])\n",
    "    structure = T([1,2,3])(vectors[0])(frames[0])\n",
    "    d=vectors[0]\n",
    "    for i in range(1,len(vectors)):\n",
    "        d[0]=d[0]+vectors[i][0]\n",
    "        d[1]=d[1]+vectors[i][1]\n",
    "        d[2]=d[2]+vectors[i][2]\n",
    "        structure = STRUCT([structure,T([1,2,3])([d[0],d[1],d[2]]),frames[i]])\n",
    "    structure = STRUCT([structure,allConnBeams])\n",
    "    VIEW(structure)\n",
    "    return structure\n",
    "    \n",
    "def buildConnectingBeams(px,py,bx,bz,dy,hz,startPointX,startPointY,frameDistance):\n",
    "    \"\"\"Creates the beams connecting two frames\"\"\"\n",
    "    x = [px]\n",
    "    for i in dy:\n",
    "        x.append(-i)\n",
    "        x.append(px)    \n",
    "    bases = PROD([QUOTE(x),QUOTE([frameDistance-py])])\n",
    "    beams = T([1,2,3])([startPointX,startPointY+py,hz[0]])(PROD([bases,QUOTE([bz])]))\n",
    "    z=0\n",
    "    allBeams=beams\n",
    "    for i in range(1,len(hz)):\n",
    "        z=z+hz[i]\n",
    "        allBeams = STRUCT([allBeams,T(3)(bz*i+z),beams])\n",
    "    return allBeams"
   ]
  },
  {
   "cell_type": "code",
   "execution_count": 7,
   "metadata": {
    "collapsed": false
   },
   "outputs": [
    {
     "data": {
      "text/plain": [
       "<pyplasm.xgepy.Hpc; proxy of <Swig Object of type 'std::shared_ptr< Hpc > *' at 0x03AD6518> >"
      ]
     },
     "execution_count": 7,
     "metadata": {},
     "output_type": "execute_result"
    }
   ],
   "source": [
    "ggpl_bone_structure('frame_data_445315.csv')"
   ]
  },
  {
   "cell_type": "code",
   "execution_count": null,
   "metadata": {
    "collapsed": true
   },
   "outputs": [],
   "source": []
  },
  {
   "cell_type": "code",
   "execution_count": null,
   "metadata": {
    "collapsed": true
   },
   "outputs": [],
   "source": []
  }
 ],
 "metadata": {
  "anaconda-cloud": {},
  "kernelspec": {
   "display_name": "Python [default]",
   "language": "python",
   "name": "python2"
  },
  "language_info": {
   "codemirror_mode": {
    "name": "ipython",
    "version": 2
   },
   "file_extension": ".py",
   "mimetype": "text/x-python",
   "name": "python",
   "nbconvert_exporter": "python",
   "pygments_lexer": "ipython2",
   "version": "2.7.12"
  }
 },
 "nbformat": 4,
 "nbformat_minor": 1
}
