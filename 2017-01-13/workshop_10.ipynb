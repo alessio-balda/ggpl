{
 "cells": [
  {
   "cell_type": "markdown",
   "metadata": {},
   "source": [
    "## Design of parametric multistorey house"
   ]
  },
  {
   "cell_type": "markdown",
   "metadata": {},
   "source": [
    "### [**Esempio**](https://im.proptiger.com/2/5241970/12/presidency-flora-lower-level-duplex-plan-5bhk-6t-4325-sq-ft-552285.jpeg)"
   ]
  },
  {
   "cell_type": "code",
   "execution_count": 1,
   "metadata": {
    "collapsed": false
   },
   "outputs": [
    {
     "name": "stdout",
     "output_type": "stream",
     "text": [
      "Evaluating fenvs.py..\n",
      "...fenvs.py imported in 0.0101475313241 seconds\n"
     ]
    },
    {
     "name": "stderr",
     "output_type": "stream",
     "text": [
      "C:\\Program Files (x86)\\Anaconda2\\lib\\site-packages\\larlib-0.3.2-py2.7.egg\\larlib\\larstruct.py:233: FutureWarning: comparison to `None` will result in an elementwise object comparison in the future.\n",
      "  self.body = [item for item in data if item != None]\n"
     ]
    }
   ],
   "source": [
    "from larlib import *"
   ]
  },
  {
   "cell_type": "code",
   "execution_count": 2,
   "metadata": {
    "collapsed": false
   },
   "outputs": [],
   "source": [
    "from workshop_08 import *"
   ]
  },
  {
   "cell_type": "code",
   "execution_count": 3,
   "metadata": {
    "collapsed": true
   },
   "outputs": [],
   "source": [
    "def zRotate(hpc,angle):\n",
    "    \"\"\"Rotate and object of type hpc around the z axys.\"\"\"\n",
    "    box=BOX([1,2,3])(hpc)\n",
    "    size = SIZE([1,2,3])(box)\n",
    "    return R([1,2])(angle)(T([1,2])([-size[0]/2.,-size[1]/2.])(hpc))"
   ]
  },
  {
   "cell_type": "code",
   "execution_count": 4,
   "metadata": {
    "collapsed": false
   },
   "outputs": [],
   "source": [
    "def readFile(filename):\n",
    "    \"\"\"Read a file between filename.\"\"\"\n",
    "    import csv\n",
    "    file = open(filename, 'rb')\n",
    "    reader = csv.reader(file, delimiter=\",\")\n",
    "    return reader"
   ]
  },
  {
   "cell_type": "code",
   "execution_count": 5,
   "metadata": {
    "collapsed": false
   },
   "outputs": [],
   "source": [
    "def buildRoof(wallLines,roofLines):\n",
    "    \"\"\"Builds a roof by reading two lists of lines.\"\"\"\n",
    "    reader = readFile(wallLines)\n",
    "    reader2 = readFile(roofLines)\n",
    "    lines = []\n",
    "    lines2 = []\n",
    "    struct = []\n",
    "    struct2 = []\n",
    "    \n",
    "    for row in reader:\n",
    "        lines.append([[eval(row[0]),eval(row[1])],[eval(row[2]),eval(row[3])]])\n",
    "    for line in lines:\n",
    "        struct.append(MKPOL([line,[[1,2]],None]))\n",
    "    bottom = STRUCT([struct[0],struct[1]])\n",
    "    for i in range(2,len(struct)):\n",
    "        bottom = STRUCT([bottom,struct[i]])\n",
    "        \n",
    "    for row in reader2:\n",
    "        lines2.append([[eval(row[0]),eval(row[1])],[eval(row[2]),eval(row[3])]])\n",
    "    for line in lines2:\n",
    "        struct2.append(MKPOL([line,[[1,2]],None]))\n",
    "    top = STRUCT([struct2[0],struct2[1]])\n",
    "    for i in range(2,len(struct2)):\n",
    "        top = STRUCT([top,struct2[i]])\n",
    "    \n",
    "    bottom = SOLIDIFY(bottom)\n",
    "    top = T(3)(30)(TEXTURE([\"wallTexture.jpg\",TRUE, TRUE, 1, 1, 0, 10, 10])(SOLIDIFY(top)))\n",
    "    lateralPanels = TEXTURE([\"TextureRoof.jpg\",TRUE, TRUE, 1, 1, 0, 10, 10])(buildLateralPanels(roofLines))\n",
    "    return STRUCT([bottom,top,lateralPanels])"
   ]
  },
  {
   "cell_type": "code",
   "execution_count": 6,
   "metadata": {
    "collapsed": false
   },
   "outputs": [],
   "source": [
    "def getStairs(layerlines):\n",
    "    \"\"\"Gets the space in which there will be placed the stairs.\"\"\"\n",
    "    reader = readFile(layerlines)\n",
    "    lines = []\n",
    "    stairSpacesArray = []\n",
    "    for row in reader:\n",
    "        lines.append([[eval(row[0]),eval(row[1])],[eval(row[2]),eval(row[3])]])\n",
    "    for i in xrange(0,len(lines),4):\n",
    "        line1 = MKPOL([lines[i],[[1,2]],None])\n",
    "        line2 = MKPOL([lines[i+1],[[1,2]],None])\n",
    "        line3 = MKPOL([lines[i+2],[[1,2]],None])\n",
    "        line4 = MKPOL([lines[i+3],[[1,2]],None])\n",
    "        stairSpace = JOIN([STRUCT([line1,line2,line3,line4])])\n",
    "    return stairSpace"
   ]
  },
  {
   "cell_type": "code",
   "execution_count": 7,
   "metadata": {
    "collapsed": false
   },
   "outputs": [],
   "source": [
    "def buildStairs(stairSpace):\n",
    "    \"\"\"Builds stairs in the space given as the parameter.\"\"\"\n",
    "    sizes = SIZE([1,2])(stairSpace)\n",
    "    dz = 27.5\n",
    "    a=dz/10\n",
    "    nSteps=int(round(dz/a))\n",
    "    sx=sizes[0]/nSteps/2\n",
    "    sy=sizes[1]/2.\n",
    "    sz=dz/nSteps\n",
    "    stairs=CUBOID([sx,sy,sz*nSteps])\n",
    "    for i in range(1,nSteps):\n",
    "        stairs=STRUCT([stairs,T([1])([sx*i]),CUBOID([sx,sy,sz*(nSteps-i)])])\n",
    "    stairs = STRUCT([stairs,T([1,2,3])([sizes[0]/4.,sy*1.5,dz]),zRotate(stairs,PI)])\n",
    "    stairs = STRUCT([T(3)(1)(stairs),T(1)(-sizes[0]/2),CUBOID([sizes[0]/2,sizes[1],dz+1])])\n",
    "    stairs = STRUCT([stairs,T([2])([sy])(CUBOID([sizes[0]/2,sy,dz+2]))])\n",
    "    stairs = MATERIAL([0,0,1,1, 1,1,1,1, 0,0,1,0, 0,0,0,1, 100])(stairs)\n",
    "    pillar = CUBOID([1,1,15])\n",
    "    railing1 = pillar\n",
    "    railing2 = pillar\n",
    "    for i in range(1,int(round(sizes[0]/2))):\n",
    "        railing1 = STRUCT([railing1,T(1)(2*i),pillar])\n",
    "    railing1 = T([1,2,3])([-sizes[0]/2,-2,57])(railing1)\n",
    "    for i in range(1,int(round(sizes[1]/4))):\n",
    "        railing2 = STRUCT([railing2,T(2)(2*i),pillar])\n",
    "    railing2 = T([1,2,3])([-sizes[0]/2,-1,57])(railing2)\n",
    "    railing = STRUCT([railing1,T(1)(sizes[0]),railing2])\n",
    "    stairs = STRUCT([stairs,railing,T([1,2,3])([-sizes[0]/2,-2,72]),CUBOID([sizes[0],1,1]),T(1)(sizes[0])(CUBOID([1,sizes[1]/2,1]))])\n",
    "    stairs = T([1,2])([UKPOL(stairSpace)[0][0][0]-sizes[0]/2,UKPOL(stairSpace)[0][0][1]-sizes[1]])(stairs)\n",
    "    return stairs"
   ]
  },
  {
   "cell_type": "code",
   "execution_count": 8,
   "metadata": {
    "collapsed": false
   },
   "outputs": [],
   "source": [
    "def buildFloor(extWallsLines,intWallsLines,doorsLines,windowsLines,stairLines):\n",
    "    \"\"\"Creates a floor with walls, doors and windows, and keeps empty the room for the stairs.\"\"\"\n",
    "    extWalls = getWalls(extWallsLines)\n",
    "    intWalls = getWalls(intWallsLines)\n",
    "    floor = PROD([SOLIDIFY(extWalls),QUOTE([1])])\n",
    "    walls = STRUCT([extWalls,intWalls])\n",
    "    walls = PROD([walls,QUOTE([55])])\n",
    "    walls = OFFSET([1,1,1])(walls)\n",
    "    doorsParam = getDoors(doorsLines,walls)\n",
    "    doorsSpace = doorsParam[1]\n",
    "    doorsSpace = PROD([doorsSpace,QUOTE([40])])\n",
    "    doorsSpace = OFFSET([1,1,1])(doorsSpace)\n",
    "    windowsParam = getWindows(windowsLines,walls)\n",
    "    windowsSpace = windowsParam[1]\n",
    "    windowsSpace = PROD([windowsSpace,QUOTE([25])])\n",
    "    windowsSpace = OFFSET([1,1,1])(windowsSpace)\n",
    "    windows = windowsParam[0]   \n",
    "    windows = T(3)(15)(windows)\n",
    "    doors = doorsParam[0]  \n",
    "    house = STRUCT([walls,doorsSpace,T(3)(15)(windowsSpace)])\n",
    "    house = DIFF([house,doorsSpace])\n",
    "    house = DIFF([house,T(3)(15)(windowsSpace)])\n",
    "    house = MATERIAL([0,0,1,1, 1,1,1,1, 0,0,1,0, 0,0,0,1, 100])(house)  \n",
    "    stairSpace = T([1,2])([-2,2])(getStairs(stairLines))\n",
    "    stairSpace = PROD([stairSpace,QUOTE([2])])\n",
    "    floor = STRUCT([floor,stairSpace])\n",
    "    floor = TEXTURE([\"TextureFloor.jpg\",TRUE, TRUE, 1, 1, 0, 10, 10])(DIFF([floor,stairSpace]))\n",
    "    house = STRUCT([house,floor,doors,windows])\n",
    "    return house"
   ]
  },
  {
   "cell_type": "code",
   "execution_count": 9,
   "metadata": {
    "collapsed": false,
    "scrolled": false
   },
   "outputs": [],
   "source": [
    "def buildHouse(extWallsLines,intWallsLines,doorsLines,windowsLines,stairLines,roofLines):\n",
    "    \"\"\"Builds a whole house of two floors, with a roof and the main door\"\"\"\n",
    "    floor1 = buildFloor(extWallsLines,intWallsLines,doorsLines,windowsLines,stairLines)\n",
    "    floorHeight = SIZE(3)(BOX([1,2,3])(floor1))\n",
    "    floor2 = T(3)(floorHeight)(floor1)\n",
    "    stairSpace = getStairs(stairLines)\n",
    "    stairs = buildStairs(stairSpace)\n",
    "    mainDoor = T([1,2])([731.351,266.9])(buildDoor(1.5,30,45,2))\n",
    "    floor1 = STRUCT([floor1,mainDoor])\n",
    "    roof=T(3)(floorHeight*2)(buildRoof(extWallsLines,roofLines))\n",
    "    return STRUCT([floor1,floor2,stairs,roof])\n"
   ]
  },
  {
   "cell_type": "code",
   "execution_count": 10,
   "metadata": {
    "collapsed": false
   },
   "outputs": [
    {
     "data": {
      "text/plain": [
       "<pyplasm.xgepy.Hpc; proxy of <Swig Object of type 'std::shared_ptr< Hpc > *' at 0x03A66350> >"
      ]
     },
     "execution_count": 10,
     "metadata": {},
     "output_type": "execute_result"
    }
   ],
   "source": [
    "VIEW(buildHouse('extWalls.lines','intWalls.lines','doors.lines','windows.lines','stairs.lines','roof.lines'))"
   ]
  },
  {
   "cell_type": "markdown",
   "metadata": {},
   "source": [
    "<img src=\"files/screenshots/house.png\">\n",
    "<img src=\"files/screenshots/house2.png\">\n",
    "<img src=\"files/screenshots/house3.png\">\n",
    "<img src=\"files/screenshots/house4.png\">\n",
    "<img src=\"files/screenshots/house5.png\">"
   ]
  }
 ],
 "metadata": {
  "anaconda-cloud": {},
  "kernelspec": {
   "display_name": "Python [default]",
   "language": "python",
   "name": "python2"
  },
  "language_info": {
   "codemirror_mode": {
    "name": "ipython",
    "version": 2
   },
   "file_extension": ".py",
   "mimetype": "text/x-python",
   "name": "python",
   "nbconvert_exporter": "python",
   "pygments_lexer": "ipython2",
   "version": "2.7.12"
  }
 },
 "nbformat": 4,
 "nbformat_minor": 1
}
