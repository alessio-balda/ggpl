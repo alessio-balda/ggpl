{
 "cells": [
  {
   "cell_type": "markdown",
   "metadata": {},
   "source": [
    "## House_Modeling"
   ]
  },
  {
   "cell_type": "markdown",
   "metadata": {},
   "source": [
    "### [**Esempio**](http://www.bridgeofhopebarm.org/Content/img/building/floor_1.jpg)"
   ]
  },
  {
   "cell_type": "code",
   "execution_count": 1,
   "metadata": {
    "collapsed": false
   },
   "outputs": [
    {
     "name": "stdout",
     "output_type": "stream",
     "text": [
      "Evaluating fenvs.py..\n",
      "...fenvs.py imported in 0.00619647134237 seconds\n"
     ]
    },
    {
     "name": "stderr",
     "output_type": "stream",
     "text": [
      "C:\\Program Files (x86)\\Anaconda2\\lib\\site-packages\\larlib-0.3.2-py2.7.egg\\larlib\\larstruct.py:233: FutureWarning: comparison to `None` will result in an elementwise object comparison in the future.\n",
      "  self.body = [item for item in data if item != None]\n"
     ]
    }
   ],
   "source": [
    "from larlib import *"
   ]
  },
  {
   "cell_type": "code",
   "execution_count": 2,
   "metadata": {
    "collapsed": false
   },
   "outputs": [],
   "source": [
    "def getWalls(layerlines):\n",
    "    \"\"\"Draws walls'lines by reading pairs of points from file, and puts them in a single structure.\"\"\"\n",
    "    import csv\n",
    "    reader = csv.reader(open(layerlines, 'r'),delimiter=',')\n",
    "    lines = []\n",
    "    struct = []\n",
    "    for row in reader:\n",
    "        lines.append([[eval(row[0]),eval(row[1])],[eval(row[2]),eval(row[3])]])\n",
    "    for line in lines:\n",
    "        struct.append(MKPOL([line,[[1,2]],None]))\n",
    "    walls = STRUCT([struct[0],struct[1]])\n",
    "    for i in range(2,len(struct)):\n",
    "        walls = STRUCT([walls,struct[i]])\n",
    "    return walls"
   ]
  },
  {
   "cell_type": "code",
   "execution_count": 3,
   "metadata": {
    "collapsed": true
   },
   "outputs": [],
   "source": [
    "def getDoors(layerlines):\n",
    "    \"\"\"Draws doors'outlines by reading pairs of points from file. \n",
    "       Every four lines read from the file, 2D rectangles are created in place of the doors with the JOIN function.\"\"\"\n",
    "    import csv\n",
    "    reader = csv.reader(open(layerlines, 'r'),delimiter=',')\n",
    "    lines = []\n",
    "    rects = []\n",
    "    for row in reader:\n",
    "        lines.append([[eval(row[0]),eval(row[1])],[eval(row[2]),eval(row[3])]])\n",
    "    for i in xrange(0,len(lines),4):\n",
    "        line1 = MKPOL([lines[i],[[1,2]],None])\n",
    "        line2 = MKPOL([lines[i+1],[[1,2]],None])\n",
    "        line3 = MKPOL([lines[i+2],[[1,2]],None])\n",
    "        line4 = MKPOL([lines[i+3],[[1,2]],None])\n",
    "        rect = STRUCT([line1,line2,line3,line4])\n",
    "        rects.append(JOIN([rect]))\n",
    "        i = i+4\n",
    "    doors = STRUCT([rects[0],rects[1]])\n",
    "    for i in range(2,len(rects)):\n",
    "        doors = STRUCT([doors,rects[i]])\n",
    "    return doors"
   ]
  },
  {
   "cell_type": "code",
   "execution_count": 4,
   "metadata": {
    "collapsed": true
   },
   "outputs": [],
   "source": [
    "def getWindows(layerlines):\n",
    "    \"\"\"Draws windows'outlines by reading pairs of points from file. \n",
    "       Every four lines read from the file, 2D rectangles are created in place of the doors with the JOIN function.\"\"\"\n",
    "    import csv\n",
    "    reader = csv.reader(open(layerlines, 'r'),delimiter=',')\n",
    "    lines = []\n",
    "    rects = []\n",
    "    for row in reader:\n",
    "        lines.append([[eval(row[0]),eval(row[1])],[eval(row[2]),eval(row[3])]])\n",
    "    for i in xrange(0,len(lines),4):\n",
    "        line1 = MKPOL([lines[i],[[1,2]],None])\n",
    "        line2 = MKPOL([lines[i+1],[[1,2]],None])\n",
    "        line3 = MKPOL([lines[i+2],[[1,2]],None])\n",
    "        line4 = MKPOL([lines[i+3],[[1,2]],None])\n",
    "        rect = STRUCT([line1,line2,line3,line4])\n",
    "        rects.append(JOIN([rect]))\n",
    "        i = i+4\n",
    "    windows = STRUCT([rects[0],rects[1]])\n",
    "    for i in range(2,len(rects)):\n",
    "        windows = STRUCT([windows,rects[i]])\n",
    "    return windows"
   ]
  },
  {
   "cell_type": "code",
   "execution_count": 8,
   "metadata": {
    "collapsed": false
   },
   "outputs": [],
   "source": [
    "def buildHouse(extWallsLines,intWallsLines,doorsLines):\n",
    "    \"\"\"Builds the house by creating external walls and internal walls with the getWalls function, \n",
    "    then subtracting the doors'placeholders obtained with the getDoors function.\"\"\"\n",
    "    extWalls = getWalls(extWallsLines)\n",
    "    intWalls = getWalls(intWallsLines)\n",
    "    doors = getDoors(doorsLines)\n",
    "    floor = TEXTURE([\"TextureFloor.jpg\",TRUE, FALSE, 1, 1, 0, 1, 1])(SOLIDIFY(extWalls))\n",
    "    walls = STRUCT([extWalls,intWalls])\n",
    "    walls = PROD([walls,QUOTE([40])])\n",
    "    doors = PROD([doors,QUOTE([30])])\n",
    "    walls = OFFSET([1,1,1])(walls)\n",
    "    doors = OFFSET([1,1,1])(doors)\n",
    "    house = STRUCT([walls,doors])\n",
    "    house = DIFF([house,doors])\n",
    "    house = TEXTURE([\"wallTexture.jpg\",TRUE, FALSE, 1, 1, 0, 1, 1])(house)\n",
    "    house = STRUCT([house,floor])\n",
    "    return house"
   ]
  },
  {
   "cell_type": "code",
   "execution_count": 9,
   "metadata": {
    "collapsed": true
   },
   "outputs": [],
   "source": [
    "def buildCompleteHouse(extWallsLines,intWallsLines,doorsLines,windowsLines):\n",
    "    \"\"\"This function is the same as the one above, but it also adds windows.\"\"\"\n",
    "    extWalls = getWalls(extWallsLines)\n",
    "    intWalls = getWalls(intWallsLines)\n",
    "    doors = getDoors(doorsLines)\n",
    "    windows = getWindows(windowsLines)\n",
    "    floor = TEXTURE([\"TextureFloor.jpg\",TRUE, FALSE, 1, 1, 0, 1, 1])(SOLIDIFY(extWalls))\n",
    "    walls = STRUCT([extWalls,intWalls])\n",
    "    walls = PROD([walls,QUOTE([40])])\n",
    "    doors = PROD([doors,QUOTE([30])])\n",
    "    windows = PROD([windows,QUOTE([15])])\n",
    "    walls = OFFSET([1,1,1])(walls)\n",
    "    doors = OFFSET([1,1,1])(doors)\n",
    "    windows = OFFSET([1,1,1])(windows)\n",
    "    windows = T(3)(15)(windows)\n",
    "    house = STRUCT([walls,doors,windows])\n",
    "    house = DIFF([house,doors])\n",
    "    house = DIFF([house,windows])\n",
    "    house = TEXTURE([\"wallTexture.jpg\",TRUE, FALSE, 1, 1, 0, 1, 1])(house)\n",
    "    return house"
   ]
  },
  {
   "cell_type": "code",
   "execution_count": 10,
   "metadata": {
    "collapsed": false
   },
   "outputs": [
    {
     "data": {
      "text/plain": [
       "<pyplasm.xgepy.Hpc; proxy of <Swig Object of type 'std::shared_ptr< Hpc > *' at 0x036BCFC8> >"
      ]
     },
     "execution_count": 10,
     "metadata": {},
     "output_type": "execute_result"
    }
   ],
   "source": [
    "VIEW(buildHouse('layer1.lines','layer2.lines','layer3.lines'))"
   ]
  },
  {
   "cell_type": "markdown",
   "metadata": {},
   "source": [
    "<img src=\"files/House1.png\">\n",
    "<img src=\"files/House2.png\">\n",
    "<img src=\"files/House3.png\">"
   ]
  },
  {
   "cell_type": "code",
   "execution_count": null,
   "metadata": {
    "collapsed": true
   },
   "outputs": [],
   "source": []
  },
  {
   "cell_type": "code",
   "execution_count": null,
   "metadata": {
    "collapsed": true
   },
   "outputs": [],
   "source": []
  }
 ],
 "metadata": {
  "anaconda-cloud": {},
  "kernelspec": {
   "display_name": "Python [default]",
   "language": "python",
   "name": "python2"
  },
  "language_info": {
   "codemirror_mode": {
    "name": "ipython",
    "version": 2
   },
   "file_extension": ".py",
   "mimetype": "text/x-python",
   "name": "python",
   "nbconvert_exporter": "python",
   "pygments_lexer": "ipython2",
   "version": "2.7.12"
  }
 },
 "nbformat": 4,
 "nbformat_minor": 1
}
